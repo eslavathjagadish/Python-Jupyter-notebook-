{
 "cells": [
  {
   "cell_type": "code",
   "execution_count": 1,
   "metadata": {},
   "outputs": [],
   "source": [
    "import os\n",
    "import pandas as pd\n",
    "import numpy as np\n",
    "import matplotlib.pyplot as plt"
   ]
  },
  {
   "cell_type": "code",
   "execution_count": 2,
   "metadata": {},
   "outputs": [
    {
     "data": {
      "text/plain": [
       "'C:\\\\Users\\\\Asus\\\\Downloads'"
      ]
     },
     "execution_count": 2,
     "metadata": {},
     "output_type": "execute_result"
    }
   ],
   "source": [
    "os.getcwd()"
   ]
  },
  {
   "cell_type": "code",
   "execution_count": 3,
   "metadata": {},
   "outputs": [],
   "source": [
    "train_file=r'C:/Users/Asus/Downloads/Data/loan_data_train.csv'\n",
    "test_file=r'C:/Users/Asus/Downloads/Data/loan_data_test.csv'"
   ]
  },
  {
   "cell_type": "code",
   "execution_count": 4,
   "metadata": {},
   "outputs": [],
   "source": [
    "ld_train=pd.read_csv(train_file)\n",
    "ld_test=pd.read_csv(test_file)   "
   ]
  },
  {
   "cell_type": "code",
   "execution_count": 5,
   "metadata": {},
   "outputs": [
    {
     "data": {
      "text/html": [
       "<div>\n",
       "<style scoped>\n",
       "    .dataframe tbody tr th:only-of-type {\n",
       "        vertical-align: middle;\n",
       "    }\n",
       "\n",
       "    .dataframe tbody tr th {\n",
       "        vertical-align: top;\n",
       "    }\n",
       "\n",
       "    .dataframe thead th {\n",
       "        text-align: right;\n",
       "    }\n",
       "</style>\n",
       "<table border=\"1\" class=\"dataframe\">\n",
       "  <thead>\n",
       "    <tr style=\"text-align: right;\">\n",
       "      <th></th>\n",
       "      <th>ID</th>\n",
       "      <th>Amount.Requested</th>\n",
       "      <th>Amount.Funded.By.Investors</th>\n",
       "      <th>Interest.Rate</th>\n",
       "      <th>Loan.Length</th>\n",
       "      <th>Loan.Purpose</th>\n",
       "      <th>Debt.To.Income.Ratio</th>\n",
       "      <th>State</th>\n",
       "      <th>Home.Ownership</th>\n",
       "      <th>Monthly.Income</th>\n",
       "      <th>FICO.Range</th>\n",
       "      <th>Open.CREDIT.Lines</th>\n",
       "      <th>Revolving.CREDIT.Balance</th>\n",
       "      <th>Inquiries.in.the.Last.6.Months</th>\n",
       "      <th>Employment.Length</th>\n",
       "    </tr>\n",
       "  </thead>\n",
       "  <tbody>\n",
       "    <tr>\n",
       "      <th>0</th>\n",
       "      <td>79542.0</td>\n",
       "      <td>25000</td>\n",
       "      <td>25000</td>\n",
       "      <td>18.49%</td>\n",
       "      <td>60 months</td>\n",
       "      <td>debt_consolidation</td>\n",
       "      <td>27.56%</td>\n",
       "      <td>VA</td>\n",
       "      <td>MORTGAGE</td>\n",
       "      <td>8606.56</td>\n",
       "      <td>720-724</td>\n",
       "      <td>11</td>\n",
       "      <td>15210</td>\n",
       "      <td>3.0</td>\n",
       "      <td>5 years</td>\n",
       "    </tr>\n",
       "    <tr>\n",
       "      <th>1</th>\n",
       "      <td>75473.0</td>\n",
       "      <td>19750</td>\n",
       "      <td>19750</td>\n",
       "      <td>17.27%</td>\n",
       "      <td>60 months</td>\n",
       "      <td>debt_consolidation</td>\n",
       "      <td>13.39%</td>\n",
       "      <td>NY</td>\n",
       "      <td>MORTGAGE</td>\n",
       "      <td>6737.50</td>\n",
       "      <td>710-714</td>\n",
       "      <td>14</td>\n",
       "      <td>19070</td>\n",
       "      <td>3.0</td>\n",
       "      <td>4 years</td>\n",
       "    </tr>\n",
       "    <tr>\n",
       "      <th>2</th>\n",
       "      <td>67265.0</td>\n",
       "      <td>2100</td>\n",
       "      <td>2100</td>\n",
       "      <td>14.33%</td>\n",
       "      <td>36 months</td>\n",
       "      <td>major_purchase</td>\n",
       "      <td>3.50%</td>\n",
       "      <td>LA</td>\n",
       "      <td>OWN</td>\n",
       "      <td>1000.00</td>\n",
       "      <td>690-694</td>\n",
       "      <td>13</td>\n",
       "      <td>893</td>\n",
       "      <td>1.0</td>\n",
       "      <td>&lt; 1 year</td>\n",
       "    </tr>\n",
       "    <tr>\n",
       "      <th>3</th>\n",
       "      <td>80167.0</td>\n",
       "      <td>28000</td>\n",
       "      <td>28000</td>\n",
       "      <td>16.29%</td>\n",
       "      <td>36 months</td>\n",
       "      <td>credit_card</td>\n",
       "      <td>19.62%</td>\n",
       "      <td>NV</td>\n",
       "      <td>MORTGAGE</td>\n",
       "      <td>7083.33</td>\n",
       "      <td>710-714</td>\n",
       "      <td>12</td>\n",
       "      <td>38194</td>\n",
       "      <td>1.0</td>\n",
       "      <td>10+ years</td>\n",
       "    </tr>\n",
       "    <tr>\n",
       "      <th>4</th>\n",
       "      <td>17240.0</td>\n",
       "      <td>24250</td>\n",
       "      <td>17431.82</td>\n",
       "      <td>12.23%</td>\n",
       "      <td>60 months</td>\n",
       "      <td>credit_card</td>\n",
       "      <td>23.79%</td>\n",
       "      <td>OH</td>\n",
       "      <td>MORTGAGE</td>\n",
       "      <td>5833.33</td>\n",
       "      <td>730-734</td>\n",
       "      <td>6</td>\n",
       "      <td>31061</td>\n",
       "      <td>2.0</td>\n",
       "      <td>10+ years</td>\n",
       "    </tr>\n",
       "  </tbody>\n",
       "</table>\n",
       "</div>"
      ],
      "text/plain": [
       "        ID Amount.Requested Amount.Funded.By.Investors Interest.Rate  \\\n",
       "0  79542.0            25000                      25000        18.49%   \n",
       "1  75473.0            19750                      19750        17.27%   \n",
       "2  67265.0             2100                       2100        14.33%   \n",
       "3  80167.0            28000                      28000        16.29%   \n",
       "4  17240.0            24250                   17431.82        12.23%   \n",
       "\n",
       "  Loan.Length        Loan.Purpose Debt.To.Income.Ratio State Home.Ownership  \\\n",
       "0   60 months  debt_consolidation               27.56%    VA       MORTGAGE   \n",
       "1   60 months  debt_consolidation               13.39%    NY       MORTGAGE   \n",
       "2   36 months      major_purchase                3.50%    LA            OWN   \n",
       "3   36 months         credit_card               19.62%    NV       MORTGAGE   \n",
       "4   60 months         credit_card               23.79%    OH       MORTGAGE   \n",
       "\n",
       "   Monthly.Income FICO.Range Open.CREDIT.Lines Revolving.CREDIT.Balance  \\\n",
       "0         8606.56    720-724                11                    15210   \n",
       "1         6737.50    710-714                14                    19070   \n",
       "2         1000.00    690-694                13                      893   \n",
       "3         7083.33    710-714                12                    38194   \n",
       "4         5833.33    730-734                 6                    31061   \n",
       "\n",
       "   Inquiries.in.the.Last.6.Months Employment.Length  \n",
       "0                             3.0           5 years  \n",
       "1                             3.0           4 years  \n",
       "2                             1.0          < 1 year  \n",
       "3                             1.0         10+ years  \n",
       "4                             2.0         10+ years  "
      ]
     },
     "execution_count": 5,
     "metadata": {},
     "output_type": "execute_result"
    }
   ],
   "source": [
    "ld_train.head()"
   ]
  },
  {
   "cell_type": "code",
   "execution_count": 6,
   "metadata": {},
   "outputs": [
    {
     "data": {
      "text/html": [
       "<div>\n",
       "<style scoped>\n",
       "    .dataframe tbody tr th:only-of-type {\n",
       "        vertical-align: middle;\n",
       "    }\n",
       "\n",
       "    .dataframe tbody tr th {\n",
       "        vertical-align: top;\n",
       "    }\n",
       "\n",
       "    .dataframe thead th {\n",
       "        text-align: right;\n",
       "    }\n",
       "</style>\n",
       "<table border=\"1\" class=\"dataframe\">\n",
       "  <thead>\n",
       "    <tr style=\"text-align: right;\">\n",
       "      <th></th>\n",
       "      <th>ID</th>\n",
       "      <th>Amount.Requested</th>\n",
       "      <th>Amount.Funded.By.Investors</th>\n",
       "      <th>Loan.Length</th>\n",
       "      <th>Loan.Purpose</th>\n",
       "      <th>Debt.To.Income.Ratio</th>\n",
       "      <th>State</th>\n",
       "      <th>Home.Ownership</th>\n",
       "      <th>Monthly.Income</th>\n",
       "      <th>FICO.Range</th>\n",
       "      <th>Open.CREDIT.Lines</th>\n",
       "      <th>Revolving.CREDIT.Balance</th>\n",
       "      <th>Inquiries.in.the.Last.6.Months</th>\n",
       "      <th>Employment.Length</th>\n",
       "    </tr>\n",
       "  </thead>\n",
       "  <tbody>\n",
       "    <tr>\n",
       "      <th>0</th>\n",
       "      <td>20093</td>\n",
       "      <td>5000</td>\n",
       "      <td>5000</td>\n",
       "      <td>60 months</td>\n",
       "      <td>moving</td>\n",
       "      <td>12.59%</td>\n",
       "      <td>NY</td>\n",
       "      <td>RENT</td>\n",
       "      <td>4416.67</td>\n",
       "      <td>690-694</td>\n",
       "      <td>13</td>\n",
       "      <td>7686</td>\n",
       "      <td>0</td>\n",
       "      <td>&lt; 1 year</td>\n",
       "    </tr>\n",
       "    <tr>\n",
       "      <th>1</th>\n",
       "      <td>62445</td>\n",
       "      <td>18000</td>\n",
       "      <td>18000</td>\n",
       "      <td>60 months</td>\n",
       "      <td>debt_consolidation</td>\n",
       "      <td>4.93%</td>\n",
       "      <td>CA</td>\n",
       "      <td>RENT</td>\n",
       "      <td>5258.50</td>\n",
       "      <td>710-714</td>\n",
       "      <td>6</td>\n",
       "      <td>11596</td>\n",
       "      <td>0</td>\n",
       "      <td>10+ years</td>\n",
       "    </tr>\n",
       "    <tr>\n",
       "      <th>2</th>\n",
       "      <td>65248</td>\n",
       "      <td>7200</td>\n",
       "      <td>7200</td>\n",
       "      <td>60 months</td>\n",
       "      <td>debt_consolidation</td>\n",
       "      <td>25.16%</td>\n",
       "      <td>LA</td>\n",
       "      <td>MORTGAGE</td>\n",
       "      <td>3750.00</td>\n",
       "      <td>750-754</td>\n",
       "      <td>13</td>\n",
       "      <td>7283</td>\n",
       "      <td>0</td>\n",
       "      <td>6 years</td>\n",
       "    </tr>\n",
       "    <tr>\n",
       "      <th>3</th>\n",
       "      <td>81822</td>\n",
       "      <td>7200</td>\n",
       "      <td>7200</td>\n",
       "      <td>36 months</td>\n",
       "      <td>debt_consolidation</td>\n",
       "      <td>17.27%</td>\n",
       "      <td>NY</td>\n",
       "      <td>MORTGAGE</td>\n",
       "      <td>3416.67</td>\n",
       "      <td>790-794</td>\n",
       "      <td>14</td>\n",
       "      <td>4838</td>\n",
       "      <td>0</td>\n",
       "      <td>10+ years</td>\n",
       "    </tr>\n",
       "    <tr>\n",
       "      <th>4</th>\n",
       "      <td>57923</td>\n",
       "      <td>22000</td>\n",
       "      <td>22000</td>\n",
       "      <td>60 months</td>\n",
       "      <td>debt_consolidation</td>\n",
       "      <td>18.28%</td>\n",
       "      <td>MI</td>\n",
       "      <td>MORTGAGE</td>\n",
       "      <td>6083.33</td>\n",
       "      <td>720-724</td>\n",
       "      <td>9</td>\n",
       "      <td>20181</td>\n",
       "      <td>0</td>\n",
       "      <td>8 years</td>\n",
       "    </tr>\n",
       "  </tbody>\n",
       "</table>\n",
       "</div>"
      ],
      "text/plain": [
       "      ID  Amount.Requested Amount.Funded.By.Investors Loan.Length  \\\n",
       "0  20093              5000                       5000   60 months   \n",
       "1  62445             18000                      18000   60 months   \n",
       "2  65248              7200                       7200   60 months   \n",
       "3  81822              7200                       7200   36 months   \n",
       "4  57923             22000                      22000   60 months   \n",
       "\n",
       "         Loan.Purpose Debt.To.Income.Ratio State Home.Ownership  \\\n",
       "0              moving               12.59%    NY           RENT   \n",
       "1  debt_consolidation                4.93%    CA           RENT   \n",
       "2  debt_consolidation               25.16%    LA       MORTGAGE   \n",
       "3  debt_consolidation               17.27%    NY       MORTGAGE   \n",
       "4  debt_consolidation               18.28%    MI       MORTGAGE   \n",
       "\n",
       "   Monthly.Income FICO.Range Open.CREDIT.Lines  Revolving.CREDIT.Balance  \\\n",
       "0         4416.67    690-694                13                      7686   \n",
       "1         5258.50    710-714                 6                     11596   \n",
       "2         3750.00    750-754                13                      7283   \n",
       "3         3416.67    790-794                14                      4838   \n",
       "4         6083.33    720-724                 9                     20181   \n",
       "\n",
       "   Inquiries.in.the.Last.6.Months Employment.Length  \n",
       "0                               0          < 1 year  \n",
       "1                               0         10+ years  \n",
       "2                               0           6 years  \n",
       "3                               0         10+ years  \n",
       "4                               0           8 years  "
      ]
     },
     "execution_count": 6,
     "metadata": {},
     "output_type": "execute_result"
    }
   ],
   "source": [
    "ld_test.head()"
   ]
  },
  {
   "cell_type": "code",
   "execution_count": 7,
   "metadata": {},
   "outputs": [
    {
     "data": {
      "text/plain": [
       "((2200, 15), (300, 14))"
      ]
     },
     "execution_count": 7,
     "metadata": {},
     "output_type": "execute_result"
    }
   ],
   "source": [
    "ld_train.shape,ld_test.shape"
   ]
  },
  {
   "cell_type": "code",
   "execution_count": 8,
   "metadata": {},
   "outputs": [],
   "source": [
    "ld_test['Interest.Rate']=np.nan\n",
    "ld_train['data']='train'\n",
    "ld_test['data']='test'\n",
    "ld_test=ld_test[ld_train.columns]\n",
    "ld_all=pd.concat([ld_train,ld_test],axis=0)"
   ]
  },
  {
   "cell_type": "code",
   "execution_count": 9,
   "metadata": {},
   "outputs": [
    {
     "data": {
      "text/html": [
       "<div>\n",
       "<style scoped>\n",
       "    .dataframe tbody tr th:only-of-type {\n",
       "        vertical-align: middle;\n",
       "    }\n",
       "\n",
       "    .dataframe tbody tr th {\n",
       "        vertical-align: top;\n",
       "    }\n",
       "\n",
       "    .dataframe thead th {\n",
       "        text-align: right;\n",
       "    }\n",
       "</style>\n",
       "<table border=\"1\" class=\"dataframe\">\n",
       "  <thead>\n",
       "    <tr style=\"text-align: right;\">\n",
       "      <th></th>\n",
       "      <th>ID</th>\n",
       "      <th>Amount.Requested</th>\n",
       "      <th>Amount.Funded.By.Investors</th>\n",
       "      <th>Interest.Rate</th>\n",
       "      <th>Loan.Length</th>\n",
       "      <th>Loan.Purpose</th>\n",
       "      <th>Debt.To.Income.Ratio</th>\n",
       "      <th>State</th>\n",
       "      <th>Home.Ownership</th>\n",
       "      <th>Monthly.Income</th>\n",
       "      <th>FICO.Range</th>\n",
       "      <th>Open.CREDIT.Lines</th>\n",
       "      <th>Revolving.CREDIT.Balance</th>\n",
       "      <th>Inquiries.in.the.Last.6.Months</th>\n",
       "      <th>Employment.Length</th>\n",
       "      <th>data</th>\n",
       "    </tr>\n",
       "  </thead>\n",
       "  <tbody>\n",
       "    <tr>\n",
       "      <th>0</th>\n",
       "      <td>79542.0</td>\n",
       "      <td>25000</td>\n",
       "      <td>25000</td>\n",
       "      <td>18.49%</td>\n",
       "      <td>60 months</td>\n",
       "      <td>debt_consolidation</td>\n",
       "      <td>27.56%</td>\n",
       "      <td>VA</td>\n",
       "      <td>MORTGAGE</td>\n",
       "      <td>8606.56</td>\n",
       "      <td>720-724</td>\n",
       "      <td>11</td>\n",
       "      <td>15210</td>\n",
       "      <td>3.0</td>\n",
       "      <td>5 years</td>\n",
       "      <td>train</td>\n",
       "    </tr>\n",
       "    <tr>\n",
       "      <th>1</th>\n",
       "      <td>75473.0</td>\n",
       "      <td>19750</td>\n",
       "      <td>19750</td>\n",
       "      <td>17.27%</td>\n",
       "      <td>60 months</td>\n",
       "      <td>debt_consolidation</td>\n",
       "      <td>13.39%</td>\n",
       "      <td>NY</td>\n",
       "      <td>MORTGAGE</td>\n",
       "      <td>6737.50</td>\n",
       "      <td>710-714</td>\n",
       "      <td>14</td>\n",
       "      <td>19070</td>\n",
       "      <td>3.0</td>\n",
       "      <td>4 years</td>\n",
       "      <td>train</td>\n",
       "    </tr>\n",
       "    <tr>\n",
       "      <th>2</th>\n",
       "      <td>67265.0</td>\n",
       "      <td>2100</td>\n",
       "      <td>2100</td>\n",
       "      <td>14.33%</td>\n",
       "      <td>36 months</td>\n",
       "      <td>major_purchase</td>\n",
       "      <td>3.50%</td>\n",
       "      <td>LA</td>\n",
       "      <td>OWN</td>\n",
       "      <td>1000.00</td>\n",
       "      <td>690-694</td>\n",
       "      <td>13</td>\n",
       "      <td>893</td>\n",
       "      <td>1.0</td>\n",
       "      <td>&lt; 1 year</td>\n",
       "      <td>train</td>\n",
       "    </tr>\n",
       "    <tr>\n",
       "      <th>3</th>\n",
       "      <td>80167.0</td>\n",
       "      <td>28000</td>\n",
       "      <td>28000</td>\n",
       "      <td>16.29%</td>\n",
       "      <td>36 months</td>\n",
       "      <td>credit_card</td>\n",
       "      <td>19.62%</td>\n",
       "      <td>NV</td>\n",
       "      <td>MORTGAGE</td>\n",
       "      <td>7083.33</td>\n",
       "      <td>710-714</td>\n",
       "      <td>12</td>\n",
       "      <td>38194</td>\n",
       "      <td>1.0</td>\n",
       "      <td>10+ years</td>\n",
       "      <td>train</td>\n",
       "    </tr>\n",
       "    <tr>\n",
       "      <th>4</th>\n",
       "      <td>17240.0</td>\n",
       "      <td>24250</td>\n",
       "      <td>17431.82</td>\n",
       "      <td>12.23%</td>\n",
       "      <td>60 months</td>\n",
       "      <td>credit_card</td>\n",
       "      <td>23.79%</td>\n",
       "      <td>OH</td>\n",
       "      <td>MORTGAGE</td>\n",
       "      <td>5833.33</td>\n",
       "      <td>730-734</td>\n",
       "      <td>6</td>\n",
       "      <td>31061</td>\n",
       "      <td>2.0</td>\n",
       "      <td>10+ years</td>\n",
       "      <td>train</td>\n",
       "    </tr>\n",
       "  </tbody>\n",
       "</table>\n",
       "</div>"
      ],
      "text/plain": [
       "        ID Amount.Requested Amount.Funded.By.Investors Interest.Rate  \\\n",
       "0  79542.0            25000                      25000        18.49%   \n",
       "1  75473.0            19750                      19750        17.27%   \n",
       "2  67265.0             2100                       2100        14.33%   \n",
       "3  80167.0            28000                      28000        16.29%   \n",
       "4  17240.0            24250                   17431.82        12.23%   \n",
       "\n",
       "  Loan.Length        Loan.Purpose Debt.To.Income.Ratio State Home.Ownership  \\\n",
       "0   60 months  debt_consolidation               27.56%    VA       MORTGAGE   \n",
       "1   60 months  debt_consolidation               13.39%    NY       MORTGAGE   \n",
       "2   36 months      major_purchase                3.50%    LA            OWN   \n",
       "3   36 months         credit_card               19.62%    NV       MORTGAGE   \n",
       "4   60 months         credit_card               23.79%    OH       MORTGAGE   \n",
       "\n",
       "   Monthly.Income FICO.Range Open.CREDIT.Lines Revolving.CREDIT.Balance  \\\n",
       "0         8606.56    720-724                11                    15210   \n",
       "1         6737.50    710-714                14                    19070   \n",
       "2         1000.00    690-694                13                      893   \n",
       "3         7083.33    710-714                12                    38194   \n",
       "4         5833.33    730-734                 6                    31061   \n",
       "\n",
       "   Inquiries.in.the.Last.6.Months Employment.Length   data  \n",
       "0                             3.0           5 years  train  \n",
       "1                             3.0           4 years  train  \n",
       "2                             1.0          < 1 year  train  \n",
       "3                             1.0         10+ years  train  \n",
       "4                             2.0         10+ years  train  "
      ]
     },
     "execution_count": 9,
     "metadata": {},
     "output_type": "execute_result"
    }
   ],
   "source": [
    "ld_all.head(5)"
   ]
  },
  {
   "cell_type": "code",
   "execution_count": 10,
   "metadata": {},
   "outputs": [
    {
     "data": {
      "text/plain": [
       "(2500, 16)"
      ]
     },
     "execution_count": 10,
     "metadata": {},
     "output_type": "execute_result"
    }
   ],
   "source": [
    "ld_all.shape"
   ]
  },
  {
   "cell_type": "code",
   "execution_count": 11,
   "metadata": {},
   "outputs": [
    {
     "name": "stdout",
     "output_type": "stream",
     "text": [
      "<class 'pandas.core.frame.DataFrame'>\n",
      "Int64Index: 2500 entries, 0 to 299\n",
      "Data columns (total 16 columns):\n",
      " #   Column                          Non-Null Count  Dtype  \n",
      "---  ------                          --------------  -----  \n",
      " 0   ID                              2499 non-null   float64\n",
      " 1   Amount.Requested                2499 non-null   object \n",
      " 2   Amount.Funded.By.Investors      2499 non-null   object \n",
      " 3   Interest.Rate                   2200 non-null   object \n",
      " 4   Loan.Length                     2499 non-null   object \n",
      " 5   Loan.Purpose                    2499 non-null   object \n",
      " 6   Debt.To.Income.Ratio            2499 non-null   object \n",
      " 7   State                           2499 non-null   object \n",
      " 8   Home.Ownership                  2499 non-null   object \n",
      " 9   Monthly.Income                  2497 non-null   float64\n",
      " 10  FICO.Range                      2500 non-null   object \n",
      " 11  Open.CREDIT.Lines               2496 non-null   object \n",
      " 12  Revolving.CREDIT.Balance        2497 non-null   object \n",
      " 13  Inquiries.in.the.Last.6.Months  2497 non-null   float64\n",
      " 14  Employment.Length               2422 non-null   object \n",
      " 15  data                            2500 non-null   object \n",
      "dtypes: float64(3), object(13)\n",
      "memory usage: 332.0+ KB\n"
     ]
    }
   ],
   "source": [
    "ld_all.info()"
   ]
  },
  {
   "cell_type": "code",
   "execution_count": 12,
   "metadata": {},
   "outputs": [
    {
     "data": {
      "text/plain": [
       "ID                                float64\n",
       "Amount.Requested                   object\n",
       "Amount.Funded.By.Investors         object\n",
       "Interest.Rate                      object\n",
       "Loan.Length                        object\n",
       "Loan.Purpose                       object\n",
       "Debt.To.Income.Ratio               object\n",
       "State                              object\n",
       "Home.Ownership                     object\n",
       "Monthly.Income                    float64\n",
       "FICO.Range                         object\n",
       "Open.CREDIT.Lines                  object\n",
       "Revolving.CREDIT.Balance           object\n",
       "Inquiries.in.the.Last.6.Months    float64\n",
       "Employment.Length                  object\n",
       "data                               object\n",
       "dtype: object"
      ]
     },
     "execution_count": 12,
     "metadata": {},
     "output_type": "execute_result"
    }
   ],
   "source": [
    "ld_all.dtypes"
   ]
  },
  {
   "cell_type": "code",
   "execution_count": 13,
   "metadata": {},
   "outputs": [],
   "source": [
    "#Dropping ID,Amount.Funded.By.Investors\n",
    "ld_all.drop(['ID','Amount.Funded.By.Investors'],axis=1,inplace=True)"
   ]
  },
  {
   "cell_type": "code",
   "execution_count": 14,
   "metadata": {},
   "outputs": [],
   "source": [
    "# Interest Rate , Debt to income ratio: remove % and then to numeric\n",
    "for col in ['Interest.Rate','Debt.To.Income.Ratio']:\n",
    "    ld_all[col]=ld_all[col].str.replace('%','')"
   ]
  },
  {
   "cell_type": "code",
   "execution_count": 15,
   "metadata": {},
   "outputs": [],
   "source": [
    "# Amount.Requested , 'Open.CREDIT.Lines','Revolving.CREDIT.Balance': convert it to numeric \n",
    "for col in ['Amount.Requested', 'Interest.Rate','Debt.To.Income.Ratio',\n",
    "            'Open.CREDIT.Lines','Revolving.CREDIT.Balance']:\n",
    "    ld_all[col]=pd.to_numeric(ld_all[col],errors='coerce')"
   ]
  },
  {
   "cell_type": "code",
   "execution_count": 16,
   "metadata": {},
   "outputs": [],
   "source": [
    "# FICO.Range : replace it by a numeric column which is average of the range\n",
    "k=ld_all['FICO.Range'].str.split('-',expand=True).astype(float)\n",
    "ld_all['fico']=0.5*(k[0]+k[1])\n",
    "del ld_all['FICO.Range']"
   ]
  },
  {
   "cell_type": "code",
   "execution_count": 17,
   "metadata": {},
   "outputs": [
    {
     "data": {
      "text/plain": [
       "10+ years    653\n",
       "< 1 year     249\n",
       "2 years      243\n",
       "3 years      235\n",
       "5 years      202\n",
       "4 years      191\n",
       "1 year       177\n",
       "6 years      163\n",
       "7 years      127\n",
       "8 years      108\n",
       "9 years       72\n",
       ".              2\n",
       "Name: Employment.Length, dtype: int64"
      ]
     },
     "execution_count": 17,
     "metadata": {},
     "output_type": "execute_result"
    }
   ],
   "source": [
    "ld_all['Employment.Length'].value_counts()"
   ]
  },
  {
   "cell_type": "code",
   "execution_count": 18,
   "metadata": {},
   "outputs": [],
   "source": [
    "#Replacing and converting to numeric \n",
    "ld_all['Employment.Length']=ld_all['Employment.Length'].str.replace('years','')\n",
    "ld_all['Employment.Length']=ld_all['Employment.Length'].str.replace('year','')\n",
    "ld_all['Employment.Length']=np.where(ld_all['Employment.Length'].str[:2]=='10',10,ld_all['Employment.Length'])\n",
    "ld_all['Employment.Length']=np.where(ld_all['Employment.Length'].str[0]=='<',0,ld_all['Employment.Length'])\n",
    "ld_all['Employment.Length']=pd.to_numeric(ld_all['Employment.Length'],errors='coerce')"
   ]
  },
  {
   "cell_type": "code",
   "execution_count": 19,
   "metadata": {},
   "outputs": [
    {
     "data": {
      "text/plain": [
       "Index(['Loan.Length', 'Loan.Purpose', 'State', 'Home.Ownership', 'data'], dtype='object')"
      ]
     },
     "execution_count": 19,
     "metadata": {},
     "output_type": "execute_result"
    }
   ],
   "source": [
    "cat_cols=ld_all.select_dtypes(['object']).columns\n",
    "cat_cols"
   ]
  },
  {
   "cell_type": "code",
   "execution_count": 20,
   "metadata": {},
   "outputs": [
    {
     "data": {
      "text/plain": [
       "Index(['Loan.Length', 'Loan.Purpose', 'State', 'Home.Ownership'], dtype='object')"
      ]
     },
     "execution_count": 20,
     "metadata": {},
     "output_type": "execute_result"
    }
   ],
   "source": [
    "cat_cols=cat_cols[:-1]\n",
    "cat_cols"
   ]
  },
  {
   "cell_type": "code",
   "execution_count": 21,
   "metadata": {},
   "outputs": [
    {
     "data": {
      "text/plain": [
       "debt_consolidation    1307\n",
       "credit_card            444\n",
       "other                  200\n",
       "home_improvement       152\n",
       "major_purchase         101\n",
       "small_business          87\n",
       "car                     50\n",
       "wedding                 39\n",
       "medical                 30\n",
       "moving                  29\n",
       "vacation                21\n",
       "house                   20\n",
       "educational             15\n",
       "renewable_energy         4\n",
       "Name: Loan.Purpose, dtype: int64"
      ]
     },
     "execution_count": 21,
     "metadata": {},
     "output_type": "execute_result"
    }
   ],
   "source": [
    "ld_all['Loan.Purpose'].value_counts()"
   ]
  },
  {
   "cell_type": "code",
   "execution_count": 22,
   "metadata": {},
   "outputs": [
    {
     "name": "stdout",
     "output_type": "stream",
     "text": [
      "Loan.Length\n",
      "Loan.Purpose\n",
      "State\n",
      "Home.Ownership\n"
     ]
    }
   ],
   "source": [
    "#Ignoring categories with too low frequency \n",
    "for col in cat_cols:\n",
    "    freq=ld_all[col].value_counts()\n",
    "    k=freq.index[freq>20][:-1]\n",
    "    for cat in k:\n",
    "        name=col+'_'+cat\n",
    "        ld_all[name]=(ld_all[col]==cat).astype(int)\n",
    "    del ld_all[col]\n",
    "    print(col)"
   ]
  },
  {
   "cell_type": "code",
   "execution_count": 23,
   "metadata": {},
   "outputs": [
    {
     "data": {
      "text/html": [
       "<div>\n",
       "<style scoped>\n",
       "    .dataframe tbody tr th:only-of-type {\n",
       "        vertical-align: middle;\n",
       "    }\n",
       "\n",
       "    .dataframe tbody tr th {\n",
       "        vertical-align: top;\n",
       "    }\n",
       "\n",
       "    .dataframe thead th {\n",
       "        text-align: right;\n",
       "    }\n",
       "</style>\n",
       "<table border=\"1\" class=\"dataframe\">\n",
       "  <thead>\n",
       "    <tr style=\"text-align: right;\">\n",
       "      <th></th>\n",
       "      <th>Amount.Requested</th>\n",
       "      <th>Interest.Rate</th>\n",
       "      <th>Debt.To.Income.Ratio</th>\n",
       "      <th>Monthly.Income</th>\n",
       "      <th>Open.CREDIT.Lines</th>\n",
       "      <th>Revolving.CREDIT.Balance</th>\n",
       "      <th>Inquiries.in.the.Last.6.Months</th>\n",
       "      <th>Employment.Length</th>\n",
       "      <th>data</th>\n",
       "      <th>fico</th>\n",
       "      <th>...</th>\n",
       "      <th>State_MO</th>\n",
       "      <th>State_NV</th>\n",
       "      <th>State_OR</th>\n",
       "      <th>State_SC</th>\n",
       "      <th>State_WI</th>\n",
       "      <th>State_KY</th>\n",
       "      <th>State_LA</th>\n",
       "      <th>State_OK</th>\n",
       "      <th>Home.Ownership_MORTGAGE</th>\n",
       "      <th>Home.Ownership_RENT</th>\n",
       "    </tr>\n",
       "  </thead>\n",
       "  <tbody>\n",
       "    <tr>\n",
       "      <th>0</th>\n",
       "      <td>25000.0</td>\n",
       "      <td>18.49</td>\n",
       "      <td>27.56</td>\n",
       "      <td>8606.56</td>\n",
       "      <td>11.0</td>\n",
       "      <td>15210.0</td>\n",
       "      <td>3.0</td>\n",
       "      <td>5.0</td>\n",
       "      <td>train</td>\n",
       "      <td>722.0</td>\n",
       "      <td>...</td>\n",
       "      <td>0</td>\n",
       "      <td>0</td>\n",
       "      <td>0</td>\n",
       "      <td>0</td>\n",
       "      <td>0</td>\n",
       "      <td>0</td>\n",
       "      <td>0</td>\n",
       "      <td>0</td>\n",
       "      <td>1</td>\n",
       "      <td>0</td>\n",
       "    </tr>\n",
       "    <tr>\n",
       "      <th>1</th>\n",
       "      <td>19750.0</td>\n",
       "      <td>17.27</td>\n",
       "      <td>13.39</td>\n",
       "      <td>6737.50</td>\n",
       "      <td>14.0</td>\n",
       "      <td>19070.0</td>\n",
       "      <td>3.0</td>\n",
       "      <td>4.0</td>\n",
       "      <td>train</td>\n",
       "      <td>712.0</td>\n",
       "      <td>...</td>\n",
       "      <td>0</td>\n",
       "      <td>0</td>\n",
       "      <td>0</td>\n",
       "      <td>0</td>\n",
       "      <td>0</td>\n",
       "      <td>0</td>\n",
       "      <td>0</td>\n",
       "      <td>0</td>\n",
       "      <td>1</td>\n",
       "      <td>0</td>\n",
       "    </tr>\n",
       "    <tr>\n",
       "      <th>2</th>\n",
       "      <td>2100.0</td>\n",
       "      <td>14.33</td>\n",
       "      <td>3.50</td>\n",
       "      <td>1000.00</td>\n",
       "      <td>13.0</td>\n",
       "      <td>893.0</td>\n",
       "      <td>1.0</td>\n",
       "      <td>0.0</td>\n",
       "      <td>train</td>\n",
       "      <td>692.0</td>\n",
       "      <td>...</td>\n",
       "      <td>0</td>\n",
       "      <td>0</td>\n",
       "      <td>0</td>\n",
       "      <td>0</td>\n",
       "      <td>0</td>\n",
       "      <td>0</td>\n",
       "      <td>1</td>\n",
       "      <td>0</td>\n",
       "      <td>0</td>\n",
       "      <td>0</td>\n",
       "    </tr>\n",
       "    <tr>\n",
       "      <th>3</th>\n",
       "      <td>28000.0</td>\n",
       "      <td>16.29</td>\n",
       "      <td>19.62</td>\n",
       "      <td>7083.33</td>\n",
       "      <td>12.0</td>\n",
       "      <td>38194.0</td>\n",
       "      <td>1.0</td>\n",
       "      <td>10.0</td>\n",
       "      <td>train</td>\n",
       "      <td>712.0</td>\n",
       "      <td>...</td>\n",
       "      <td>0</td>\n",
       "      <td>1</td>\n",
       "      <td>0</td>\n",
       "      <td>0</td>\n",
       "      <td>0</td>\n",
       "      <td>0</td>\n",
       "      <td>0</td>\n",
       "      <td>0</td>\n",
       "      <td>1</td>\n",
       "      <td>0</td>\n",
       "    </tr>\n",
       "    <tr>\n",
       "      <th>4</th>\n",
       "      <td>24250.0</td>\n",
       "      <td>12.23</td>\n",
       "      <td>23.79</td>\n",
       "      <td>5833.33</td>\n",
       "      <td>6.0</td>\n",
       "      <td>31061.0</td>\n",
       "      <td>2.0</td>\n",
       "      <td>10.0</td>\n",
       "      <td>train</td>\n",
       "      <td>732.0</td>\n",
       "      <td>...</td>\n",
       "      <td>0</td>\n",
       "      <td>0</td>\n",
       "      <td>0</td>\n",
       "      <td>0</td>\n",
       "      <td>0</td>\n",
       "      <td>0</td>\n",
       "      <td>0</td>\n",
       "      <td>0</td>\n",
       "      <td>1</td>\n",
       "      <td>0</td>\n",
       "    </tr>\n",
       "  </tbody>\n",
       "</table>\n",
       "<p>5 rows × 51 columns</p>\n",
       "</div>"
      ],
      "text/plain": [
       "   Amount.Requested  Interest.Rate  Debt.To.Income.Ratio  Monthly.Income  \\\n",
       "0           25000.0          18.49                 27.56         8606.56   \n",
       "1           19750.0          17.27                 13.39         6737.50   \n",
       "2            2100.0          14.33                  3.50         1000.00   \n",
       "3           28000.0          16.29                 19.62         7083.33   \n",
       "4           24250.0          12.23                 23.79         5833.33   \n",
       "\n",
       "   Open.CREDIT.Lines  Revolving.CREDIT.Balance  \\\n",
       "0               11.0                   15210.0   \n",
       "1               14.0                   19070.0   \n",
       "2               13.0                     893.0   \n",
       "3               12.0                   38194.0   \n",
       "4                6.0                   31061.0   \n",
       "\n",
       "   Inquiries.in.the.Last.6.Months  Employment.Length   data   fico  ...  \\\n",
       "0                             3.0                5.0  train  722.0  ...   \n",
       "1                             3.0                4.0  train  712.0  ...   \n",
       "2                             1.0                0.0  train  692.0  ...   \n",
       "3                             1.0               10.0  train  712.0  ...   \n",
       "4                             2.0               10.0  train  732.0  ...   \n",
       "\n",
       "   State_MO  State_NV  State_OR  State_SC  State_WI  State_KY  State_LA  \\\n",
       "0         0         0         0         0         0         0         0   \n",
       "1         0         0         0         0         0         0         0   \n",
       "2         0         0         0         0         0         0         1   \n",
       "3         0         1         0         0         0         0         0   \n",
       "4         0         0         0         0         0         0         0   \n",
       "\n",
       "   State_OK  Home.Ownership_MORTGAGE  Home.Ownership_RENT  \n",
       "0         0                        1                    0  \n",
       "1         0                        1                    0  \n",
       "2         0                        0                    0  \n",
       "3         0                        1                    0  \n",
       "4         0                        1                    0  \n",
       "\n",
       "[5 rows x 51 columns]"
      ]
     },
     "execution_count": 23,
     "metadata": {},
     "output_type": "execute_result"
    }
   ],
   "source": [
    "ld_all.head()"
   ]
  },
  {
   "cell_type": "code",
   "execution_count": 24,
   "metadata": {},
   "outputs": [
    {
     "data": {
      "text/plain": [
       "(2500, 51)"
      ]
     },
     "execution_count": 24,
     "metadata": {},
     "output_type": "execute_result"
    }
   ],
   "source": [
    "ld_all.shape"
   ]
  },
  {
   "cell_type": "code",
   "execution_count": 25,
   "metadata": {},
   "outputs": [
    {
     "data": {
      "text/plain": [
       "Amount.Requested                     5\n",
       "Interest.Rate                      300\n",
       "Debt.To.Income.Ratio                 1\n",
       "Monthly.Income                       3\n",
       "Open.CREDIT.Lines                    9\n",
       "Revolving.CREDIT.Balance             5\n",
       "Inquiries.in.the.Last.6.Months       3\n",
       "Employment.Length                   80\n",
       "data                                 0\n",
       "fico                                 0\n",
       "Loan.Length_36 months                0\n",
       "Loan.Purpose_debt_consolidation      0\n",
       "Loan.Purpose_credit_card             0\n",
       "Loan.Purpose_other                   0\n",
       "Loan.Purpose_home_improvement        0\n",
       "Loan.Purpose_major_purchase          0\n",
       "Loan.Purpose_small_business          0\n",
       "Loan.Purpose_car                     0\n",
       "Loan.Purpose_wedding                 0\n",
       "Loan.Purpose_medical                 0\n",
       "Loan.Purpose_moving                  0\n",
       "State_CA                             0\n",
       "State_NY                             0\n",
       "State_TX                             0\n",
       "State_FL                             0\n",
       "State_IL                             0\n",
       "State_GA                             0\n",
       "State_PA                             0\n",
       "State_NJ                             0\n",
       "State_VA                             0\n",
       "State_MA                             0\n",
       "State_OH                             0\n",
       "State_MD                             0\n",
       "State_NC                             0\n",
       "State_CO                             0\n",
       "State_WA                             0\n",
       "State_CT                             0\n",
       "State_AZ                             0\n",
       "State_MI                             0\n",
       "State_AL                             0\n",
       "State_MN                             0\n",
       "State_MO                             0\n",
       "State_NV                             0\n",
       "State_OR                             0\n",
       "State_SC                             0\n",
       "State_WI                             0\n",
       "State_KY                             0\n",
       "State_LA                             0\n",
       "State_OK                             0\n",
       "Home.Ownership_MORTGAGE              0\n",
       "Home.Ownership_RENT                  0\n",
       "dtype: int64"
      ]
     },
     "execution_count": 25,
     "metadata": {},
     "output_type": "execute_result"
    }
   ],
   "source": [
    "ld_all.isnull().sum()"
   ]
  },
  {
   "cell_type": "code",
   "execution_count": 26,
   "metadata": {},
   "outputs": [],
   "source": [
    "for col in ld_all.columns:\n",
    "    if(col not in ['Interest.Rate','data'])&(ld_all[col].isnull().sum()>0):\n",
    "        ld_all.loc[ld_all[col].isnull(),col]=ld_all.loc[ld_all['data']=='train',col].mean()"
   ]
  },
  {
   "cell_type": "code",
   "execution_count": 27,
   "metadata": {},
   "outputs": [
    {
     "data": {
      "text/plain": [
       "0"
      ]
     },
     "execution_count": 27,
     "metadata": {},
     "output_type": "execute_result"
    }
   ],
   "source": [
    "ld_all['Employment.Length'].isnull().sum()"
   ]
  },
  {
   "cell_type": "code",
   "execution_count": 28,
   "metadata": {},
   "outputs": [
    {
     "data": {
      "text/plain": [
       "Amount.Requested                     0\n",
       "Interest.Rate                      300\n",
       "Debt.To.Income.Ratio                 0\n",
       "Monthly.Income                       0\n",
       "Open.CREDIT.Lines                    0\n",
       "Revolving.CREDIT.Balance             0\n",
       "Inquiries.in.the.Last.6.Months       0\n",
       "Employment.Length                    0\n",
       "data                                 0\n",
       "fico                                 0\n",
       "Loan.Length_36 months                0\n",
       "Loan.Purpose_debt_consolidation      0\n",
       "Loan.Purpose_credit_card             0\n",
       "Loan.Purpose_other                   0\n",
       "Loan.Purpose_home_improvement        0\n",
       "Loan.Purpose_major_purchase          0\n",
       "Loan.Purpose_small_business          0\n",
       "Loan.Purpose_car                     0\n",
       "Loan.Purpose_wedding                 0\n",
       "Loan.Purpose_medical                 0\n",
       "Loan.Purpose_moving                  0\n",
       "State_CA                             0\n",
       "State_NY                             0\n",
       "State_TX                             0\n",
       "State_FL                             0\n",
       "State_IL                             0\n",
       "State_GA                             0\n",
       "State_PA                             0\n",
       "State_NJ                             0\n",
       "State_VA                             0\n",
       "State_MA                             0\n",
       "State_OH                             0\n",
       "State_MD                             0\n",
       "State_NC                             0\n",
       "State_CO                             0\n",
       "State_WA                             0\n",
       "State_CT                             0\n",
       "State_AZ                             0\n",
       "State_MI                             0\n",
       "State_AL                             0\n",
       "State_MN                             0\n",
       "State_MO                             0\n",
       "State_NV                             0\n",
       "State_OR                             0\n",
       "State_SC                             0\n",
       "State_WI                             0\n",
       "State_KY                             0\n",
       "State_LA                             0\n",
       "State_OK                             0\n",
       "Home.Ownership_MORTGAGE              0\n",
       "Home.Ownership_RENT                  0\n",
       "dtype: int64"
      ]
     },
     "execution_count": 28,
     "metadata": {},
     "output_type": "execute_result"
    }
   ],
   "source": [
    "ld_all.isnull().sum()"
   ]
  },
  {
   "cell_type": "code",
   "execution_count": 29,
   "metadata": {},
   "outputs": [
    {
     "name": "stderr",
     "output_type": "stream",
     "text": [
      "C:\\Users\\Asus\\anaconda3\\lib\\site-packages\\pandas\\core\\frame.py:4163: SettingWithCopyWarning: \n",
      "A value is trying to be set on a copy of a slice from a DataFrame\n",
      "\n",
      "See the caveats in the documentation: https://pandas.pydata.org/pandas-docs/stable/user_guide/indexing.html#returning-a-view-versus-a-copy\n",
      "  return super().drop(\n"
     ]
    }
   ],
   "source": [
    "ld_train=ld_all[ld_all['data']=='train']\n",
    "del ld_train['data']\n",
    "ld_test=ld_all[ld_all['data']=='test']\n",
    "ld_test.drop(['Interest.Rate','data'],axis=1,inplace=True)"
   ]
  },
  {
   "cell_type": "code",
   "execution_count": 30,
   "metadata": {},
   "outputs": [],
   "source": [
    "del ld_all"
   ]
  },
  {
   "cell_type": "code",
   "execution_count": 31,
   "metadata": {},
   "outputs": [],
   "source": [
    "from sklearn.model_selection import train_test_split"
   ]
  },
  {
   "cell_type": "code",
   "execution_count": 32,
   "metadata": {},
   "outputs": [
    {
     "data": {
      "text/plain": [
       "(2200, 50)"
      ]
     },
     "execution_count": 32,
     "metadata": {},
     "output_type": "execute_result"
    }
   ],
   "source": [
    "ld_train1,ld_train2=train_test_split(ld_train,test_size=0.2,random_state=2)\n",
    "ld_train.shape"
   ]
  },
  {
   "cell_type": "code",
   "execution_count": 33,
   "metadata": {},
   "outputs": [
    {
     "data": {
      "text/plain": [
       "(1760, 50)"
      ]
     },
     "execution_count": 33,
     "metadata": {},
     "output_type": "execute_result"
    }
   ],
   "source": [
    "ld_train1.shape"
   ]
  },
  {
   "cell_type": "code",
   "execution_count": 34,
   "metadata": {},
   "outputs": [
    {
     "data": {
      "text/plain": [
       "(440, 50)"
      ]
     },
     "execution_count": 34,
     "metadata": {},
     "output_type": "execute_result"
    }
   ],
   "source": [
    "ld_train2.shape"
   ]
  },
  {
   "cell_type": "code",
   "execution_count": 35,
   "metadata": {},
   "outputs": [],
   "source": [
    "x_train1=ld_train1.drop('Interest.Rate',axis=1)\n",
    "y_train1=ld_train1['Interest.Rate']"
   ]
  },
  {
   "cell_type": "code",
   "execution_count": 36,
   "metadata": {},
   "outputs": [],
   "source": [
    "from sklearn.linear_model import LinearRegression"
   ]
  },
  {
   "cell_type": "code",
   "execution_count": 37,
   "metadata": {},
   "outputs": [],
   "source": [
    "lm=LinearRegression()"
   ]
  },
  {
   "cell_type": "code",
   "execution_count": 38,
   "metadata": {},
   "outputs": [
    {
     "data": {
      "text/plain": [
       "LinearRegression()"
      ]
     },
     "execution_count": 38,
     "metadata": {},
     "output_type": "execute_result"
    }
   ],
   "source": [
    "lm.fit(x_train1,y_train1)"
   ]
  },
  {
   "cell_type": "code",
   "execution_count": 39,
   "metadata": {},
   "outputs": [
    {
     "data": {
      "text/plain": [
       "(1760, 49)"
      ]
     },
     "execution_count": 39,
     "metadata": {},
     "output_type": "execute_result"
    }
   ],
   "source": [
    "x_train1.shape"
   ]
  },
  {
   "cell_type": "code",
   "execution_count": 40,
   "metadata": {},
   "outputs": [
    {
     "data": {
      "text/plain": [
       "76.01913622059163"
      ]
     },
     "execution_count": 40,
     "metadata": {},
     "output_type": "execute_result"
    }
   ],
   "source": [
    "lm.intercept_"
   ]
  },
  {
   "cell_type": "code",
   "execution_count": 41,
   "metadata": {},
   "outputs": [
    {
     "data": {
      "text/plain": [
       "[('Amount.Requested', 0.00015614431012143834),\n",
       " ('Debt.To.Income.Ratio', -0.003844240774117761),\n",
       " ('Monthly.Income', -2.640648611024752e-05),\n",
       " ('Open.CREDIT.Lines', -0.04022799798362779),\n",
       " ('Revolving.CREDIT.Balance', -4.043165672484861e-06),\n",
       " ('Inquiries.in.the.Last.6.Months', 0.336761302956462),\n",
       " ('Employment.Length', 0.0347338830221231),\n",
       " ('fico', -0.08669304194244787),\n",
       " ('Loan.Length_36 months', -3.142554743125377),\n",
       " ('Loan.Purpose_debt_consolidation', -0.47135975236182714),\n",
       " ('Loan.Purpose_credit_card', -0.6123429134596095),\n",
       " ('Loan.Purpose_other', 0.44626098118798396),\n",
       " ('Loan.Purpose_home_improvement', -0.3699829780973721),\n",
       " ('Loan.Purpose_major_purchase', -0.0974511983723585),\n",
       " ('Loan.Purpose_small_business', 0.06251542143811589),\n",
       " ('Loan.Purpose_car', 0.018748914316903953),\n",
       " ('Loan.Purpose_wedding', -0.783052054003568),\n",
       " ('Loan.Purpose_medical', -0.4221458946928667),\n",
       " ('Loan.Purpose_moving', 1.2768888222135204),\n",
       " ('State_CA', -0.29120816865192045),\n",
       " ('State_NY', -0.20784181354585995),\n",
       " ('State_TX', 0.3841091731465295),\n",
       " ('State_FL', 0.0048479044655736145),\n",
       " ('State_IL', -0.728594651236628),\n",
       " ('State_GA', -0.1094949687762519),\n",
       " ('State_PA', -0.6344637679429563),\n",
       " ('State_NJ', -0.5044859736086524),\n",
       " ('State_VA', -0.27041244500868555),\n",
       " ('State_MA', 0.010510217191507687),\n",
       " ('State_OH', -0.4428402101320398),\n",
       " ('State_MD', -0.09859435114848607),\n",
       " ('State_NC', -0.3804224871913911),\n",
       " ('State_CO', -0.13743161843768908),\n",
       " ('State_WA', -0.32628364072969285),\n",
       " ('State_CT', 0.36543721069965407),\n",
       " ('State_AZ', 0.18311333972876956),\n",
       " ('State_MI', -0.2393622396211728),\n",
       " ('State_AL', -0.40309475046961774),\n",
       " ('State_MN', -0.1586370247732582),\n",
       " ('State_MO', -0.5142321949582125),\n",
       " ('State_NV', -0.2051772790117718),\n",
       " ('State_OR', 0.03902771379342597),\n",
       " ('State_SC', -0.05833617362312574),\n",
       " ('State_WI', -0.24512064234535874),\n",
       " ('State_KY', 0.18705420527433586),\n",
       " ('State_LA', -0.13009840467168618),\n",
       " ('State_OK', -0.4192125633226813),\n",
       " ('Home.Ownership_MORTGAGE', -0.4916810221538478),\n",
       " ('Home.Ownership_RENT', -0.23217518504343043)]"
      ]
     },
     "execution_count": 41,
     "metadata": {},
     "output_type": "execute_result"
    }
   ],
   "source": [
    "list(zip(x_train1.columns,lm.coef_))"
   ]
  },
  {
   "cell_type": "code",
   "execution_count": 42,
   "metadata": {},
   "outputs": [],
   "source": [
    "x_train2=ld_train2.drop('Interest.Rate',axis=1)"
   ]
  },
  {
   "cell_type": "code",
   "execution_count": 43,
   "metadata": {},
   "outputs": [
    {
     "data": {
      "text/plain": [
       "array([18.95757445, 15.76668874, 10.14007831, 10.80666979, 16.0940946 ,\n",
       "       13.27890037, 14.15332864, 13.5912977 , 17.33690901,  7.72379278,\n",
       "       13.95629124, 14.15954028, 14.51076936,  8.40826882, 16.02285693,\n",
       "       15.54235319, 14.60611162, 11.21430156, 17.11493703,  7.52594185,\n",
       "       17.48204816, 14.38087425, 12.34514204,  9.1941234 , 17.10651258,\n",
       "       13.88531402,  7.53064958, 10.27245226,  6.82923441, 15.9758509 ,\n",
       "       10.93284019,  9.86892157, 12.53019209, 11.54524212, 12.81865613,\n",
       "       13.69866175,  6.97326063, 15.71547177,  3.85760133, 13.96992303,\n",
       "        8.79173676, 15.70675436, 13.64242104, 12.4509562 , 10.63910893,\n",
       "        9.46990621,  7.65341061, 13.29644165, 17.16161744, 17.12683007,\n",
       "        1.92407159, 20.17383292, 11.0275661 , 15.25353029,  9.23204627,\n",
       "       11.91902675, 13.85273507, 14.50338828, 13.1611591 , 16.13308025,\n",
       "       17.7192942 , 14.35882435, 15.47642922, 13.07929506, 13.70821415,\n",
       "       15.2608565 , 16.83002103, 12.24747146, 13.5521199 , 14.56477857,\n",
       "       11.50377739, 13.65588683, 10.85735859, 14.48063604, 14.91753942,\n",
       "       12.52613515, 13.21270109, 13.77836207,  9.13350185, 13.30467374,\n",
       "       18.15677921, 10.33432271, 12.44261337, 15.65174505, 12.9939605 ,\n",
       "       10.55760398,  9.64516586, 11.74424459, 18.08905339,  9.29259116,\n",
       "       12.8924844 , 11.89546997, 11.01072756, 14.97751751, 14.14465766,\n",
       "       15.59239991, 16.37259078, 14.89190503, 14.45971971,  9.46734287,\n",
       "       10.64137894, 18.54289339, 16.26355148, 12.97381524, 15.82687371,\n",
       "       16.04552239,  7.08613473, 12.25558234, 14.00563735, 14.15034264,\n",
       "       11.833512  , 10.06041783, 16.08372664, 13.22535925,  9.52492485,\n",
       "       15.79567203, 16.12541579, 16.01090666,  4.40790634, 12.78397969,\n",
       "       19.44925384, 14.568812  ,  5.74722834, 13.82853276, 14.16669966,\n",
       "       15.49757043,  9.13627572,  6.85051259, 12.62317652, 13.31693874,\n",
       "       15.22036557, 13.4151996 , 10.90792369, 10.19122144, 15.21986527,\n",
       "       14.15445993,  7.67918539,  5.59864258,  5.98067415, 15.83949234,\n",
       "       17.79150599, 21.67439618, 12.03115878, 13.85098009, 13.84407929,\n",
       "        9.4604604 , 15.20788134, 12.42226132, 14.08228067, 12.61529522,\n",
       "       14.30095617,  7.97257561, 14.15978065, 12.63507545, 15.27757006,\n",
       "       15.76332393,  6.59117823, 12.06626186, 15.50444391, 10.649438  ,\n",
       "        5.00591262, 15.41185978, 14.92403946, 15.26925264, 11.54453103,\n",
       "       15.53201374,  9.08975627, 15.70211008, 15.47092085,  6.56101137,\n",
       "       10.32042   , 10.62684437, 10.79430245, 11.33429437, 13.96535674,\n",
       "       13.04137784, 14.44953671, 13.54291402, 14.33518809,  9.98252978,\n",
       "       17.42875564,  5.43189122, 13.70113987,  9.60505489, 11.93010014,\n",
       "       12.64069887, 13.42983978, 10.15184507, 19.22167017, 17.92731948,\n",
       "       14.5293924 , 16.04832795, 16.88626451,  9.1535231 , 15.18520096,\n",
       "       10.41202815,  6.95704888, 19.32009585, 14.69760175, 13.28730154,\n",
       "       12.79194876, 10.24891348, 15.01864617, 18.38742314,  9.71035436,\n",
       "       20.25118918, 12.70162069, 15.63533716,  7.41935913, 11.05442988,\n",
       "        6.73527869,  9.14467866, 15.35901967, 13.4827675 , 18.85633916,\n",
       "       10.79680352, 11.8788983 ,  8.39135224, 15.35561029, 15.09745175,\n",
       "        8.78999303, 17.10223991, 14.18231379, 13.42252666, 13.36894177,\n",
       "       12.98768518,  9.80015693,  4.46998336,  8.52658434, 19.63535992,\n",
       "       12.14934114,  9.42991292, 11.98848267,  5.18534999, 13.79270387,\n",
       "       13.07985665, 16.91642559, 18.09454386, 19.95263664, 18.38361982,\n",
       "       19.31145369, 13.7098167 , 13.68345835, 11.69038142,  8.58880289,\n",
       "       10.23771893, 12.56899278, 10.53382354,  8.27034831,  7.91420512,\n",
       "       13.31343083, 17.197113  , 14.68994777, 21.27942512,  8.74944484,\n",
       "        6.60963552, 12.01574115, 11.53612824, 10.88506416, 14.13270111,\n",
       "        9.57461227, 16.16630632, 15.77149164, 16.92934485, 14.85544808,\n",
       "       13.56258426, 17.14237347, 12.85923347, 17.75804636, 13.71747416,\n",
       "       11.63750219, 20.85056566, 16.04067625, 10.43993239,  3.72041645,\n",
       "       11.12547126,  5.01595087, 14.8644494 , 13.43208732, 12.2868647 ,\n",
       "        5.17116175,  7.68919236, 14.97051391, 15.7850079 , 19.05485646,\n",
       "       19.04737066, 18.43189758,  3.60987377, 19.6315927 , 16.8531763 ,\n",
       "       16.19351036, 12.01826146, 14.38358544, 16.84996256,  5.87836547,\n",
       "       13.72747297, 15.73247631, 14.05181941, 10.28135861, 10.96857618,\n",
       "       13.26803736, 14.84596367, 10.18015965, 12.81111119,  9.44631326,\n",
       "       13.36138391, 10.47457774, 18.65272313, 15.25587644, 10.53068262,\n",
       "       16.39908969, 15.59417583, 10.51078796, 15.22925453, 12.93521685,\n",
       "        6.34296735,  6.08295536, 13.83825179, 10.31912221, 14.03567588,\n",
       "       12.69845597, 14.48959046, 13.2044325 , 16.35545407,  9.92868119,\n",
       "       16.71962684, 11.38946837, 14.28919181, 13.49794221, 12.27854197,\n",
       "       10.00632475, 17.12744004, 12.42079921, 11.64168109, 10.91240273,\n",
       "       20.58853648,  8.2769877 , 19.28069267, 11.3115325 , 12.01436178,\n",
       "        7.18273612, 17.89298665,  7.33510337, 10.34341865,  9.24714617,\n",
       "       16.18589077,  6.63142526,  8.36675087, 12.78292042, 18.15801882,\n",
       "        9.10540976, 13.3182038 , 10.74369342, 11.93962208, 15.29336313,\n",
       "       15.11005452, 10.93860034, 13.28724236, 12.08387615,  8.57886035,\n",
       "       15.7081281 , 12.63129173, 13.17122763, 13.98870828,  9.36783636,\n",
       "       10.25488334, 17.69963166, 14.36649164, 14.32474136, 14.83808034,\n",
       "        8.98566954, 11.43797876, 11.94050542,  6.4598033 ,  8.77005627,\n",
       "        9.62785249,  9.79065362, 13.90317296, 11.99069725, 11.05275656,\n",
       "        1.82963416, 13.44110604,  8.89910761, 16.86165607, 13.06672566,\n",
       "       12.97243407, 15.24171066, 15.64747426, 12.29228355, 13.84205445,\n",
       "       17.63350597, 16.73853614, 15.79524525, 12.78510948, 12.30644786,\n",
       "       12.68818355, 18.12890994, 11.39588569, 15.61583718, 13.62276806,\n",
       "       13.94886862, 14.53213005, 13.71502106, 15.0577647 , 12.02930562,\n",
       "       19.87233392, 12.29312147, 16.51292162, 11.01231281, 13.32642621,\n",
       "       10.62718432, 10.18347961, 11.78269096,  6.72518276, 10.95193497,\n",
       "       14.74100682, 10.69589647, 12.79393419, 14.83254279, 10.09228175,\n",
       "        5.13662811, 20.97250079, 15.90956526,  6.07404231, 19.48357013,\n",
       "       13.9047674 , 15.60592451, 18.72454844, 12.18562435, 12.13348909,\n",
       "       11.38628302, 13.5294489 , 14.72943251,  5.81282285, 15.08959944,\n",
       "       11.85630364, 16.20936013, 18.57142695, 14.41344778, 12.0901953 ])"
      ]
     },
     "execution_count": 43,
     "metadata": {},
     "output_type": "execute_result"
    }
   ],
   "source": [
    "predict_lr=lm.predict(x_train2)\n",
    "predict_lr"
   ]
  },
  {
   "cell_type": "code",
   "execution_count": 44,
   "metadata": {},
   "outputs": [],
   "source": [
    "from sklearn.metrics import mean_absolute_error"
   ]
  },
  {
   "cell_type": "code",
   "execution_count": 45,
   "metadata": {},
   "outputs": [
    {
     "data": {
      "text/plain": [
       "1.6292292194608236"
      ]
     },
     "execution_count": 45,
     "metadata": {},
     "output_type": "execute_result"
    }
   ],
   "source": [
    "mean_absolute_error(ld_train2['Interest.Rate'],predict_lr)"
   ]
  },
  {
   "cell_type": "code",
   "execution_count": 46,
   "metadata": {},
   "outputs": [],
   "source": [
    "from sklearn.metrics import mean_squared_error\n",
    "import math"
   ]
  },
  {
   "cell_type": "code",
   "execution_count": 47,
   "metadata": {},
   "outputs": [
    {
     "data": {
      "text/plain": [
       "1.2764126368305915"
      ]
     },
     "execution_count": 47,
     "metadata": {},
     "output_type": "execute_result"
    }
   ],
   "source": [
    "math.sqrt(mean_absolute_error(ld_train2['Interest.Rate'],predict_lr))"
   ]
  },
  {
   "cell_type": "code",
   "execution_count": 48,
   "metadata": {},
   "outputs": [],
   "source": [
    "x_train=ld_train.drop('Interest.Rate',axis=1)\n",
    "y_train=ld_train['Interest.Rate']"
   ]
  },
  {
   "cell_type": "code",
   "execution_count": 49,
   "metadata": {},
   "outputs": [
    {
     "data": {
      "text/plain": [
       "LinearRegression()"
      ]
     },
     "execution_count": 49,
     "metadata": {},
     "output_type": "execute_result"
    }
   ],
   "source": [
    "lm.fit(x_train,y_train)"
   ]
  },
  {
   "cell_type": "code",
   "execution_count": 50,
   "metadata": {},
   "outputs": [],
   "source": [
    "#We know the tentative performance now, lets build the model on entire training to make prediction on test/production"
   ]
  },
  {
   "cell_type": "code",
   "execution_count": 51,
   "metadata": {},
   "outputs": [
    {
     "data": {
      "text/plain": [
       "array([16.63618167, 15.92226609, 10.62494474,  3.68897175, 15.3784313 ,\n",
       "        6.95342326, 15.77712318, 10.69682191, 15.98771052, 12.39786716,\n",
       "        9.69283243, 14.90926815, 11.42078575, 13.70141754, 13.45779419,\n",
       "       18.3636886 , 10.38276607, 15.75953007, 13.77806223, 13.84342311,\n",
       "       22.44793527, 17.45495828, 12.1273471 , 14.84963218,  9.69177958,\n",
       "       11.16005996, 13.14833996, 19.40596043, 12.00742411, 16.99351021,\n",
       "       15.25427259, 15.49253508, 12.30428505, 15.17915788, 13.75534482,\n",
       "       14.20132897, 19.47943826, 11.23767123, 12.01454022, 16.97441831,\n",
       "       14.14866609, 11.08975389, 14.64638699, 13.10701123, 15.60022587,\n",
       "       17.02307313, 14.86418177, 17.1041638 , 16.91366445, 10.4366317 ,\n",
       "       13.58727928, 19.77808121,  9.98899695, 19.65390044, 15.59643884,\n",
       "       14.85655818, 17.53322145, 14.35853926, 10.90187824, 14.43748638,\n",
       "       13.11738479, 16.98195374,  8.80612044, 14.55148822, 10.53907452,\n",
       "       11.45992569, 12.83963824, 14.71122111, 12.05867025, 14.48342621,\n",
       "       14.39233985, 17.44055784, 20.78181124, 19.59322263, 13.35502583,\n",
       "       16.98283516, 11.09237281,  9.94512916, 16.60952463,  6.89362724,\n",
       "       16.05327547, 10.35546258,  9.50040159, 12.98050223, 13.98444068,\n",
       "        9.46495296,  9.32687347, 13.94881046,  8.63228663, 11.78083779,\n",
       "       12.19879289, 16.94826215, 13.67258226, 17.84596361, 14.24463086,\n",
       "       10.40444582, 10.206488  , 17.13263739, 16.97860476, 13.81877033,\n",
       "       15.32783992, 13.46915158, 15.22743635, 14.55230121, 13.5260262 ,\n",
       "       12.27373029,  8.81758887, 11.88415276, 10.86248637, 13.96556407,\n",
       "       11.70762479, 20.20668468,  7.58054769, 16.73067971, 15.62047763,\n",
       "        6.54270412, 13.29267998, 14.29713715, 15.09094675,  9.28639499,\n",
       "       16.12868438, 14.32458705,  8.98247014, 12.97288444, 17.3789577 ,\n",
       "       15.97660222,  8.5231162 , 18.54463188,  3.41116596, 12.20609372,\n",
       "       13.75044124, 13.12994341, 10.04879386, 14.11418329, 18.73356078,\n",
       "       14.14401221, 15.54746193, 13.39275152, 12.94874755,  9.53413244,\n",
       "       14.12639958, 14.39758467, 11.69288552, 11.50255417, 11.65050301,\n",
       "       16.91409126, 11.96519136, 10.56725685,  7.80334203, 10.12174573,\n",
       "       11.43720645, 13.87861758, 10.346649  ,  7.72032422, 13.98435562,\n",
       "       12.22121951, 11.10239247,  7.98099975, 14.52702971, 14.57077902,\n",
       "       14.10563658,  7.13246032, 15.117383  , 17.99284838, 15.25146696,\n",
       "       15.9889553 , 14.75168623, 10.0686579 , 13.62884875, 16.6569049 ,\n",
       "       14.60687542, 12.85998899,  6.57547902, 13.27882936, 10.34493801,\n",
       "       10.48464303, 11.09552451,  8.57530763,  9.62763714, 11.65360154,\n",
       "       12.80897112, 14.43469957, 10.38038075, 13.37006822, 10.91198961,\n",
       "       14.00938052,  8.59699732, 17.84901557, 13.64502611,  9.46944819,\n",
       "        7.66539577, 11.4666995 , 16.02128111, 15.4475014 , 15.06162451,\n",
       "       18.01128513,  9.19547886, 18.843123  ,  4.82693785, 13.89930329,\n",
       "       14.51979848, 12.44520867, 18.02512261, 16.75855915,  4.74017272,\n",
       "       15.57076555, 15.39548682, 19.69285514, 16.43733198,  8.77930991,\n",
       "       14.66025826, 11.70538236, 12.1161245 , 14.60192085, 10.48620917,\n",
       "       12.34404329, 13.25610953, 20.69119411, 13.84840803,  6.32926913,\n",
       "        5.64734599,  9.4135872 , 17.93924024, 11.32913636, 15.85747652,\n",
       "       14.60012433, 11.55392156, 11.64055176, 12.54527308, 10.78506151,\n",
       "       11.6617492 , 14.89658955, 12.70866602, 15.85212048,  7.57986694,\n",
       "       11.30846958, 13.25348438, 10.45015972,  4.81404482, 19.94535772,\n",
       "       14.17083755, 19.80385631,  7.93998211, 20.75448493, 12.8179224 ,\n",
       "       12.26196473, 20.12578534,  9.21628184,  7.68866563, 12.97509586,\n",
       "       16.01896508, 15.06418638, 10.75172707, 13.98506003, 15.14713576,\n",
       "       18.92484199, 11.36631826,  8.10050935, 12.67898371, 18.04061005,\n",
       "       16.38386686, 13.40927075, 18.4390088 ,  7.47726477, 19.87789522,\n",
       "        8.7538584 , 15.69505211, 10.81944348,  4.61473164, 14.91796925,\n",
       "       13.4811267 , 13.11904359,  6.80489765, 10.6670146 ,  9.80338691,\n",
       "        6.51641841, 14.1731993 , 13.77654376, 10.91336895, 14.6797936 ,\n",
       "       17.11734601, 20.33087212, 16.28978705, 14.24631465, 15.97075545,\n",
       "        8.14567162, 12.75279633, 13.47091134, 10.91865943, 12.01611884,\n",
       "       14.5365073 , 10.09787027, 14.56137371,  9.63056041,  7.10932892,\n",
       "       15.8225323 , 11.20228368, 14.50441155, 17.83758117, 13.04897466])"
      ]
     },
     "execution_count": 51,
     "metadata": {},
     "output_type": "execute_result"
    }
   ],
   "source": [
    "test_pred=lm.predict(ld_test)\n",
    "test_pred"
   ]
  },
  {
   "cell_type": "code",
   "execution_count": 53,
   "metadata": {},
   "outputs": [],
   "source": [
    "pd.DataFrame(test_pred).to_csv(\"mysubmission.csv\",index=False)\n",
    "X=x_train\n",
    "params = np.append(lm.intercept_,lm.coef_)\n",
    "predictions = lm.predict(X)"
   ]
  },
  {
   "cell_type": "code",
   "execution_count": null,
   "metadata": {},
   "outputs": [],
   "source": []
  }
 ],
 "metadata": {
  "kernelspec": {
   "display_name": "Python 3",
   "language": "python",
   "name": "python3"
  },
  "language_info": {
   "codemirror_mode": {
    "name": "ipython",
    "version": 3
   },
   "file_extension": ".py",
   "mimetype": "text/x-python",
   "name": "python",
   "nbconvert_exporter": "python",
   "pygments_lexer": "ipython3",
   "version": "3.8.5"
  }
 },
 "nbformat": 4,
 "nbformat_minor": 4
}
