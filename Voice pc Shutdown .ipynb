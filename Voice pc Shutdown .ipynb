{
 "cells": [
  {
   "cell_type": "code",
   "execution_count": 2,
   "metadata": {},
   "outputs": [
    {
     "name": "stdout",
     "output_type": "stream",
     "text": [
      "Collecting pyttsx3\n",
      "  Downloading pyttsx3-2.90-py3-none-any.whl (39 kB)\n",
      "Collecting pypiwin32; platform_system == \"Windows\"\n",
      "  Downloading pypiwin32-223-py3-none-any.whl (1.7 kB)\n",
      "Requirement already satisfied: pywin32; platform_system == \"Windows\" in c:\\users\\asus\\anaconda3\\lib\\site-packages (from pyttsx3) (227)\n",
      "Requirement already satisfied: comtypes; platform_system == \"Windows\" in c:\\users\\asus\\anaconda3\\lib\\site-packages (from pyttsx3) (1.1.7)\n",
      "Installing collected packages: pypiwin32, pyttsx3\n",
      "Successfully installed pypiwin32-223 pyttsx3-2.90\n"
     ]
    }
   ],
   "source": [
    "!pip install pyttsx3"
   ]
  },
  {
   "cell_type": "code",
   "execution_count": 4,
   "metadata": {},
   "outputs": [
    {
     "name": "stdout",
     "output_type": "stream",
     "text": [
      "Collecting SpeechRecognition\n",
      "  Downloading SpeechRecognition-3.8.1-py2.py3-none-any.whl (32.8 MB)\n",
      "Installing collected packages: SpeechRecognition\n",
      "Successfully installed SpeechRecognition-3.8.1\n"
     ]
    }
   ],
   "source": [
    "!pip install SpeechRecognition"
   ]
  },
  {
   "cell_type": "code",
   "execution_count": 5,
   "metadata": {},
   "outputs": [],
   "source": [
    "#Importing Required Modules\n",
    "import os\n",
    "import pyttsx3\n",
    "import speech_recognition as sr"
   ]
  },
  {
   "cell_type": "code",
   "execution_count": 26,
   "metadata": {},
   "outputs": [],
   "source": [
    "#Creating Class\n",
    "class pythonhub:\n",
    "    def takeCommands(self):           #Method to take choice command as input\n",
    "        r=sr.Recognizer()             #Using Reconigzer anad Microphone method for input commands \n",
    "        with sr.Microphone() as source:\n",
    "            print('Listening')\n",
    "            r.pause_threshold=0.7     #Number of PF seconds of non speaking audio before a phrase is considere complete\n",
    "            audio=r.listen(source)    #Voice input is indentified\n",
    "            try:\n",
    "                print('Recognizing')\n",
    "                Query=r.recognize_google(audio,language='en_in') #listening voice commands in Indian English\n",
    "                print('the query is printed=',Query,\"''\") #Display the voice commands\n",
    "            except Exception as e:    #Displaying Exception\n",
    "                print(e)\n",
    "                print('Say that again Mr Jagadish') #Reconfirmation for shutdown\n",
    "                return 'None'\n",
    "            return Query\n",
    "        def Speak(self,audio):         #method for voice output\n",
    "            engine=pyttsx3.init('sapi5') #Constructor call for pyttsx3.init()\n",
    "            voices=engine.getProperty('voices') #Setting voice type and ID\n",
    "            engine.setProperty('voice',voices[1].id)\n",
    "            engine.say(audio)\n",
    "            engine.runAndWait()\n",
    "        def quitSelf(self):           #Method to self shutdown system\n",
    "            self.Speak('Do you want me to shutdown the computer Mr jagadish') #Input Voice command\n",
    "            take=self.takeCommands()\n",
    "            choice=take\n",
    "        if 'Yes' in choice:           #Shutting Down\n",
    "            print('Shutting down the computer')\n",
    "            self.Speak('Shutting the computer')\n",
    "            os.system('shutdown /s /t 30')\n",
    "        if 'No' in choice:            #If responded No remains Idle\n",
    "            print('Thank you Sir')\n",
    "            self.Speak('Thank you sir')\n",
    "        if __name__=='__main__':      #Driver Code\n",
    "            Maam=pythonhub()\n",
    "            Maam.quitSelf()"
   ]
  },
  {
   "cell_type": "code",
   "execution_count": null,
   "metadata": {},
   "outputs": [],
   "source": []
  }
 ],
 "metadata": {
  "kernelspec": {
   "display_name": "Python 3",
   "language": "python",
   "name": "python3"
  },
  "language_info": {
   "codemirror_mode": {
    "name": "ipython",
    "version": 3
   },
   "file_extension": ".py",
   "mimetype": "text/x-python",
   "name": "python",
   "nbconvert_exporter": "python",
   "pygments_lexer": "ipython3",
   "version": "3.8.5"
  }
 },
 "nbformat": 4,
 "nbformat_minor": 4
}
